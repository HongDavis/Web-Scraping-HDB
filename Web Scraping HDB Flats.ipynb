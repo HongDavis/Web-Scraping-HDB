{
 "cells": [
  {
   "cell_type": "code",
   "execution_count": 76,
   "metadata": {
    "ExecuteTime": {
     "end_time": "2019-04-11T13:46:39.889975Z",
     "start_time": "2019-04-11T13:46:39.887176Z"
    }
   },
   "outputs": [],
   "source": [
    "import pandas as pd\n",
    "import requests\n",
    "from lxml import html, etree"
   ]
  },
  {
   "cell_type": "code",
   "execution_count": 77,
   "metadata": {
    "ExecuteTime": {
     "end_time": "2019-04-11T13:46:40.919899Z",
     "start_time": "2019-04-11T13:46:40.109662Z"
    }
   },
   "outputs": [],
   "source": [
    "# Function to scrap and return web data\n",
    "def scrapedata(url):\n",
    "    d=requests.get(url)\n",
    "    rootdata=html.fromstring(d.content)\n",
    "    return rootdata"
   ]
  },
  {
   "cell_type": "code",
   "execution_count": 83,
   "metadata": {
    "ExecuteTime": {
     "end_time": "2019-04-11T13:46:43.842311Z",
     "start_time": "2019-04-11T13:46:43.798751Z"
    }
   },
   "outputs": [
    {
     "name": "stdout",
     "output_type": "stream",
     "text": [
      "Data saved\n"
     ]
    }
   ],
   "source": [
    "hdblist = [] # Create a list to store scraped data\n",
    "\n",
    "# Web pages of iProperty hosting 4 room HDBs \n",
    "url = 'https://www.iproperty.com.sg/sale/hdb/?bedroom=3&maxPrice=400000&sortBy=price-asc'\n",
    "\n",
    "for i in range(1,20): # Assuming HDB flats listing is more than a page but less than 20.\n",
    "    if i > 1:\n",
    "        rootdata = scrapedata(url + '&page=' + str(i))\n",
    "    else:\n",
    "        rootdata = scrapedata(url)\n",
    "        \n",
    "    for rrd in rootdata.xpath('//ul[@class=\"listing-list sc-jCHZzo fOyaAy\"]/li[contains(@class, \"sale\")]/div/div[@class=\"sc-mrBlX dsRzxL\"]'):\n",
    "        recordlist={} # Create a dictionary to hold data temporary\n",
    "        for rrd1 in rrd.xpath('div[@class=\"sc-dyKSPo jcIdSe\"]'):\n",
    "            #print(rrd1.xpath('div/h2/text()')) # Property agent name and property agent\n",
    "            #print(rrd1.xpath('div/div/p/text()')) # Ad 'posted on' date\n",
    "            agent = rrd1.xpath('div/h2/text()') # Property agent name and property agent\n",
    "            postondate = rrd1.xpath('div/div/p/text()') # Ad 'posted on' date\n",
    "            recordlist['agent'] = agent[0][0:]\n",
    "            recordlist['postondate'] = postondate[0][0:]\n",
    "        for rrd1 in rrd.xpath('div[@class=\"sc-gXPbch icSkIZ\"]'):\n",
    "            for rrd2 in rrd1.xpath('div[@class=\"sc-inlrYM bmRfcO\"]'):\n",
    "                #print(rrd2.xpath('div/div/a/@href')) # Sales ad reference number\n",
    "                #print(rrd2.xpath('div/div/a/ul/li/text()')) # Price\n",
    "                #print(rrd2.xpath('div/p/a/text()')) # Price PSF\n",
    "                ref = rrd2.xpath('div/div/a/@href') # Sales ad reference number\n",
    "                price = rrd2.xpath('div/div/a/ul/li/text()') # Price\n",
    "                psf = rrd2.xpath('div/p/a/text()') # Price PSF\n",
    "                recordlist['ref'] = ref[0][9:]\n",
    "                recordlist['price S$'] = int(price[0][4:].replace(',',''))\n",
    "                if len(psf) != 0:\n",
    "                # Remove text 'Price PSF SGD' and convert numerical value to float.\n",
    "                    recordlist['psf S$'] = float(psf[0][14:-1])\n",
    "            for rrd2 in rrd1.xpath('div[@class=\"sc-bRbqnn ciWdWU\"]'):\n",
    "                #print(rrd2.xpath('div/p/a/text()')) # Address 1\n",
    "                #print(rrd2.xpath('div/a/text()')) # Address 2\n",
    "                add1 = rrd2.xpath('div/p/a/text()') # Address 1\n",
    "                add2 = rrd2.xpath('div/a/text()') # Address 2\n",
    "                recordlist['add1'] = add1[0][0:]\n",
    "                recordlist['add2'] = add2[0][0:]\n",
    "                recordlist['neigbourhood'] = recordlist['add1'].split(',')[0]\n",
    "                recordlist['postal'] = add2[0][-6:]\n",
    "            for rrd2 in rrd1.xpath('div[@class=\"sc-kVyEtE cqMWQp\"]'):\n",
    "                #print(rrd2.xpath('a/text()')) # Description of the flat eg, 4 Room HDB Flat\n",
    "                des = rrd2.xpath('a/text()') # Description of the flat eg, 4 Room HDB Flat \n",
    "                recordlist['des'] = des[0][0:]\n",
    "            for rrd2 in rrd1.xpath('div[@class=\"sc-lewbHj djZatJ\"]'):\n",
    "                #print(rrd2.xpath('div/ul/li/a[@class=\"attrs-price-per-unit-desktop\"]/text()')) # Built up area\n",
    "                #print(rrd2.xpath('div/ul/li[contains(@class,\"bedroom-facility\")]/a/text()')) # Number of bed rooms\n",
    "                #print(rrd2.xpath('div/ul/li[contains(@class,\"bathroom-facility\")]/a/text()')) # Number of toilets\n",
    "                try:\n",
    "                    builtuparea = rrd2.xpath('div/ul/li/a[@class=\"attrs-price-per-unit-desktop\"]/text()')\n",
    "                    noofrooms = rrd2.xpath('div/ul/li[contains(@class,\"bedroom-facility\")]/a/text()')\n",
    "                    nooftoilets = rrd2.xpath('div/ul/li[contains(@class,\"bathroom-facility\")]/a/text()')\n",
    "                    if \"sq. m.\" not in builtuparea[0]: \n",
    "                        recordlist['builtuparea'] = int([int(s) for s in builtuparea[0].split() if s.isdigit()][0])\n",
    "                    else: # Convert square meter to square feet and round it off\n",
    "                        recordlist['builtuparea'] = round(10.7639 * int([int(s) for s in builtuparea[0].split() if s.isdigit()][0]))\n",
    "                    recordlist['noofrooms'] = noofrooms[0]\n",
    "                    recordlist['nooftoilets'] = nooftoilets[0]\n",
    "                except IndexError:\n",
    "                    break\n",
    "        hdblist.append(recordlist)\n",
    "# import data into a pandas dataframe\n",
    "resalehdb = pd.DataFrame(hdblist)\n",
    "\n",
    "cols = ['neigbourhood','add1','add2','postal','des','builtuparea','noofrooms','nooftoilets','price S$','psf S$','agent','ref']\n",
    "resalehdb = resalehdb[cols]\n",
    "resalehdb.sort_values(['neigbourhood','builtuparea'], axis=0, ascending=[True,False], inplace=True, kind='quicksort')\n",
    "resalehdb['psf S$'].fillna(recordlist['price S$']/recordlist['builtuparea'],inplace = True)\n",
    "\n",
    "resalehdb.to_csv(\"iProperty.csv\", sep = ',', index = False)\n",
    "print('Data saved')"
   ]
  },
  {
   "cell_type": "code",
   "execution_count": null,
   "metadata": {},
   "outputs": [],
   "source": []
  }
 ],
 "metadata": {
  "kernelspec": {
   "display_name": "Python 3",
   "language": "python",
   "name": "python3"
  },
  "language_info": {
   "codemirror_mode": {
    "name": "ipython",
    "version": 3
   },
   "file_extension": ".py",
   "mimetype": "text/x-python",
   "name": "python",
   "nbconvert_exporter": "python",
   "pygments_lexer": "ipython3",
   "version": "3.7.1"
  },
  "toc": {
   "base_numbering": 1,
   "nav_menu": {},
   "number_sections": true,
   "sideBar": true,
   "skip_h1_title": false,
   "title_cell": "Table of Contents",
   "title_sidebar": "Contents",
   "toc_cell": false,
   "toc_position": {},
   "toc_section_display": true,
   "toc_window_display": false
  },
  "varInspector": {
   "cols": {
    "lenName": 16,
    "lenType": 16,
    "lenVar": 40
   },
   "kernels_config": {
    "python": {
     "delete_cmd_postfix": "",
     "delete_cmd_prefix": "del ",
     "library": "var_list.py",
     "varRefreshCmd": "print(var_dic_list())"
    },
    "r": {
     "delete_cmd_postfix": ") ",
     "delete_cmd_prefix": "rm(",
     "library": "var_list.r",
     "varRefreshCmd": "cat(var_dic_list()) "
    }
   },
   "types_to_exclude": [
    "module",
    "function",
    "builtin_function_or_method",
    "instance",
    "_Feature"
   ],
   "window_display": false
  }
 },
 "nbformat": 4,
 "nbformat_minor": 2
}
